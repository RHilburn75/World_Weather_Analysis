{
 "cells": [
  {
   "cell_type": "code",
   "execution_count": 13,
   "id": "d15d8e0f",
   "metadata": {},
   "outputs": [],
   "source": [
    "# Import the random module.\n",
    "import random"
   ]
  },
  {
   "cell_type": "code",
   "execution_count": 14,
   "id": "13bb2c0e",
   "metadata": {},
   "outputs": [
    {
     "data": {
      "text/plain": [
       "39"
      ]
     },
     "execution_count": 14,
     "metadata": {},
     "output_type": "execute_result"
    }
   ],
   "source": [
    "random.randint(-90, 90)"
   ]
  },
  {
   "cell_type": "code",
   "execution_count": 15,
   "id": "27c5e249",
   "metadata": {},
   "outputs": [
    {
     "data": {
      "text/plain": [
       "0.3255206115947027"
      ]
     },
     "execution_count": 15,
     "metadata": {},
     "output_type": "execute_result"
    }
   ],
   "source": [
    "random.random()"
   ]
  },
  {
   "cell_type": "code",
   "execution_count": 16,
   "id": "abebb33d",
   "metadata": {},
   "outputs": [
    {
     "data": {
      "text/plain": [
       "39.18777759832363"
      ]
     },
     "execution_count": 16,
     "metadata": {},
     "output_type": "execute_result"
    }
   ],
   "source": [
    "#Module6.1.4\n",
    "random_number = random.randint(-90, 89) + random.random()\n",
    "random_number"
   ]
  },
  {
   "cell_type": "code",
   "execution_count": 27,
   "id": "cdd6abdd",
   "metadata": {},
   "outputs": [],
   "source": [
    "x = 1\n",
    "latitudes = []\n",
    "while x < 11:\n",
    "    random_lat = random.randint(-90, 89) + random.random()\n",
    "    latitudes.append(random_lat)\n",
    "    x += 1"
   ]
  },
  {
   "cell_type": "code",
   "execution_count": 28,
   "id": "30049516",
   "metadata": {},
   "outputs": [
    {
     "data": {
      "text/plain": [
       "88"
      ]
     },
     "execution_count": 28,
     "metadata": {},
     "output_type": "execute_result"
    }
   ],
   "source": [
    "random.randrange(-90, 90, step=1)"
   ]
  },
  {
   "cell_type": "code",
   "execution_count": 29,
   "id": "6a4e87dd",
   "metadata": {},
   "outputs": [
    {
     "data": {
      "text/plain": [
       "-24"
      ]
     },
     "execution_count": 29,
     "metadata": {},
     "output_type": "execute_result"
    }
   ],
   "source": [
    "# If you don't add the step parameter, the output will be a number with an increment of 1, which is the default integer value.\n",
    "random.randrange(-90, 90, step=3)"
   ]
  },
  {
   "cell_type": "code",
   "execution_count": 32,
   "id": "58128a8e",
   "metadata": {},
   "outputs": [
    {
     "data": {
      "text/plain": [
       "13.798545710656555"
      ]
     },
     "execution_count": 32,
     "metadata": {},
     "output_type": "execute_result"
    }
   ],
   "source": [
    "random.uniform(-90, 90)"
   ]
  },
  {
   "cell_type": "code",
   "execution_count": 33,
   "id": "f9a67049",
   "metadata": {},
   "outputs": [],
   "source": [
    "# Import the NumPy module.\n",
    "import numpy as np"
   ]
  },
  {
   "cell_type": "code",
   "execution_count": 34,
   "id": "41133d30",
   "metadata": {},
   "outputs": [
    {
     "data": {
      "text/plain": [
       "74.96293193945166"
      ]
     },
     "execution_count": 34,
     "metadata": {},
     "output_type": "execute_result"
    }
   ],
   "source": [
    "np.random.uniform(-90.000, 90.000)"
   ]
  },
  {
   "cell_type": "code",
   "execution_count": 35,
   "id": "15e45a01",
   "metadata": {},
   "outputs": [
    {
     "data": {
      "text/plain": [
       "-51.620592955974324"
      ]
     },
     "execution_count": 35,
     "metadata": {},
     "output_type": "execute_result"
    }
   ],
   "source": [
    "# Another option to write for above\n",
    "np.random.uniform(low=-90, high=90)"
   ]
  },
  {
   "cell_type": "code",
   "execution_count": 36,
   "id": "67ad2e8c",
   "metadata": {},
   "outputs": [
    {
     "data": {
      "text/plain": [
       "array([-31.73479131,  84.91242369,  79.82606334,  88.50180573,\n",
       "        -8.32372809,  41.75771087, -78.05148216,  27.06598275,\n",
       "        42.98633313, -38.52995505,  26.89352026,  89.87814717,\n",
       "       -30.76915522,  -1.41806492,  64.93946633, -18.09197721,\n",
       "       -28.08956372, -16.18422851,  37.28375078,  17.26122159,\n",
       "       -83.42844096,  15.11698316, -61.58073232,  76.66552915,\n",
       "       -37.35326673,   6.52286196,  55.595137  , -40.66142496,\n",
       "       -82.98551552, -44.22165325, -55.27519861,  64.4987493 ,\n",
       "       -44.95762793, -56.65209927,   0.45554651, -53.9139408 ,\n",
       "        61.37195667, -17.28148804, -57.59236059,  57.43809393,\n",
       "        17.72826711,  11.81192373, -38.0582934 ,  41.97335654,\n",
       "       -26.4135449 , -28.40872722, -54.02294644, -35.68625324,\n",
       "        79.78157642,  81.47104518])"
      ]
     },
     "execution_count": 36,
     "metadata": {},
     "output_type": "execute_result"
    }
   ],
   "source": [
    "#  Adding the size parameter\n",
    "np.random.uniform(-90.000, 90.000, size=50)"
   ]
  },
  {
   "cell_type": "code",
   "execution_count": 37,
   "id": "030fc30b",
   "metadata": {},
   "outputs": [],
   "source": [
    "# Import timeit.\n",
    "import timeit"
   ]
  },
  {
   "cell_type": "code",
   "execution_count": 38,
   "id": "55092d7e",
   "metadata": {},
   "outputs": [
    {
     "name": "stdout",
     "output_type": "stream",
     "text": [
      "20.1 µs ± 565 ns per loop (mean ± std. dev. of 7 runs, 10000 loops each)\n"
     ]
    }
   ],
   "source": [
    "%timeit np.random.uniform(-90.000, 90.000, size=1500)"
   ]
  },
  {
   "cell_type": "code",
   "execution_count": 39,
   "id": "02023cac",
   "metadata": {},
   "outputs": [
    {
     "name": "stdout",
     "output_type": "stream",
     "text": [
      "3.23 ms ± 143 µs per loop (mean ± std. dev. of 7 runs, 100 loops each)\n"
     ]
    }
   ],
   "source": [
    "def latitudes(size):\n",
    "    latitudes = []\n",
    "    x = 0\n",
    "    while x < (size):\n",
    "        random_lat = random.randint(-90, 90) + random.random()\n",
    "        latitudes.append(random_lat)\n",
    "        x += 1\n",
    "    return latitudes\n",
    "# Call the function with 1500.\n",
    "%timeit latitudes(1500)"
   ]
  },
  {
   "cell_type": "code",
   "execution_count": 40,
   "id": "0a65ef33",
   "metadata": {},
   "outputs": [
    {
     "data": {
      "text/plain": [
       "array([ -7.66655347,  23.20111639, -75.16440297, ..., -75.76365757,\n",
       "        63.49421045,  63.53133295])"
      ]
     },
     "execution_count": 40,
     "metadata": {},
     "output_type": "execute_result"
    }
   ],
   "source": [
    "np.random.uniform(-90.000, 90.000, size=1500)"
   ]
  },
  {
   "cell_type": "code",
   "execution_count": null,
   "id": "2215799c",
   "metadata": {},
   "outputs": [],
   "source": []
  }
 ],
 "metadata": {
  "kernelspec": {
   "display_name": "PythonData",
   "language": "python",
   "name": "pythondata"
  },
  "language_info": {
   "codemirror_mode": {
    "name": "ipython",
    "version": 3
   },
   "file_extension": ".py",
   "mimetype": "text/x-python",
   "name": "python",
   "nbconvert_exporter": "python",
   "pygments_lexer": "ipython3",
   "version": "3.7.11"
  }
 },
 "nbformat": 4,
 "nbformat_minor": 5
}
